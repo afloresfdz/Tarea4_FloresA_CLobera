{
 "cells": [
  {
   "cell_type": "markdown",
   "metadata": {},
   "source": [
    "<img style=\"float: left; margin: 30px 15px 15px 15px;\" src=\"https://pngimage.net/wp-content/uploads/2018/06/logo-iteso-png-5.png\" width=\"300\" height=\"500\" /> \n",
    "    \n",
    "    \n",
    "### <font color='navy'> Simulación de procesos financieros. \n",
    "\n",
    "**Nombres:** Cristina Lobera De La Mora y Andrea Flores Fernandez.\n",
    "\n",
    "**Fecha:** 20 de semptiembre del 2021.\n",
    "\n",
    "**Expediente** : if714997 if725449.\n",
    "**Profesor:** Oscar David Jaramillo Zuluaga.\n",
    "    \n",
    "**Link Github**: https://github.com/afloresfdz/Tarea4_FloresA_CLobera.git\n",
    "\n",
    "# Tarea 4: Clase 7"
   ]
  },
  {
   "cell_type": "markdown",
   "metadata": {},
   "source": [
    "## Ejercicio 1\n",
    "Como ejemplo simple de una simulación de Monte Carlo, considere calcular la probabilidad de una suma particular del lanzamiento de tres dados (cada dado tiene valores del uno al seis). Además cada dado tiene las siguientes carácterísticas: el primer dado no está cargado (distribución uniforme todos son equiprobables); el segundo y tercer dado están cargados basados en una distribución binomial con parámetros (`n=5, p=0.5` y `n=5, p=0.2`). Calcule la probabilidad de que la suma resultante sea 7, 14 o 18. "
   ]
  },
  {
   "cell_type": "code",
   "execution_count": 1,
   "metadata": {},
   "outputs": [],
   "source": [
    "import numpy as np\n",
    "import numpy as np\n",
    "import matplotlib.pyplot as plt\n",
    "import pandas as pd\n",
    "import os\n",
    "import scipy.stats as st"
   ]
  },
  {
   "cell_type": "markdown",
   "metadata": {},
   "source": [
    "Código de solución Andrea Flores Fernandez "
   ]
  },
  {
   "cell_type": "code",
   "execution_count": 2,
   "metadata": {},
   "outputs": [
    {
     "data": {
      "text/plain": [
       "array([0.1672, 0.0003, 0.    ])"
      ]
     },
     "execution_count": 2,
     "metadata": {},
     "output_type": "execute_result"
    }
   ],
   "source": [
    "N = 10000\n",
    "d1 = np.random.randint(1,7,10000)\n",
    "d2 = st.binom(n=5, p=0.5).rvs(size=10000)\n",
    "d3 = st.binom(n=5, p=0.2).rvs(size=10000)\n",
    "dados3= d1 + d2 + d3\n",
    "\n",
    "p7 = sum(list(map(lambda x: 1 if x == 7 else 0, dados3))) / N\n",
    "p14 = sum(list(map(lambda x: 1 if x == 14 else 0, dados3))) / N\n",
    "p18 = sum(list(map(lambda x: 1 if x == 18 else 0, dados3))) / N\n",
    "\n",
    "np.array([p7,p14,p18])"
   ]
  },
  {
   "cell_type": "markdown",
   "metadata": {},
   "source": [
    "Código de solución Cristina Lobera De La Mora"
   ]
  },
  {
   "cell_type": "code",
   "execution_count": 4,
   "metadata": {},
   "outputs": [],
   "source": [
    "# Código de solución estudiante 2\n",
    "\n"
   ]
  },
  {
   "cell_type": "markdown",
   "metadata": {},
   "source": [
    "# 2 Ejercicio de aplicación- Cafetería Central\n",
    "\n",
    "Premisas para la simulación:\n",
    "- Negocio de alimentos que vende bebidas y alimentos.\n",
    "- Negocio dentro del ITESO.\n",
    "- Negocio en cafetería central.\n",
    "- Tipo de clientes (hombres y mujeres).\n",
    "- Rentabilidad del 60%.\n",
    "\n",
    "## Objetivo\n",
    "Realizar una simulación estimado el tiempo medio que se tardaran los clientes en ser atendidos entre el horario de 6:30 a 1 pm. Además saber el consumo. \n",
    "**Analizar supuestos y limitantes**"
   ]
  },
  {
   "cell_type": "markdown",
   "metadata": {},
   "source": [
    "## Supuestos en simulación\n",
    "Clasificación de clientes: \n",
    "- Mujer  = 1 $\\longrightarrow$ aleatorio < 0.5\n",
    "- Hombre = 0 $\\longrightarrow$ aleatorio $\\geq$ 0.5.\n",
    "\n",
    "Condiciones iniciales:\n",
    "- Todas las distrubuciones de probabilidad se supondrán uniformes.\n",
    "- Tiempo de simulación: 6:30 am - 1:30pm $\\longrightarrow$ T = 7 horas = 25200 seg.\n",
    "- Tiempo de llegada hasta ser atendido: Min=5seg, Max=30seg.\n",
    "- Tiempo que tardan los clientes en ser atendidos:\n",
    "    - Mujer: Min = 1 min= 60seg, Max = 5 min = 300 seg\n",
    "    - Hombre: Min = 40 seg, Max = 2 min= 120 seg\n",
    "- Consumo según el tipo de cliente:\n",
    "    - Mujer: Min = 30 pesos, Max = 100 pesos\n",
    "    - Hombre: Min = 20 pesos, Max = 80 pesos\n",
    "\n",
    "Responder las siguientes preguntas basados en los datos del problema:\n",
    "1. ¿Cuáles fueron los gastos de los hombres y las mujeres en 5 días de trabajo?.\n",
    "2. ¿Cuál fue el consumo promedio de los hombres y mujeres?\n",
    "3. ¿Cuál fue el número de personas atendidas por día?\n",
    "4. ¿Cuál fue el tiempo de atención promedio?\n",
    "5. ¿Cuánto fue la ganancia promedio de la cafetería en 5 días de trabajo y su respectiva rentabilidad?"
   ]
  },
  {
   "cell_type": "code",
   "execution_count": 5,
   "metadata": {},
   "outputs": [],
   "source": [
    "################## Datos del problema\n",
    "d = 5\n",
    "T =25200\n",
    "T_at_min = 5; T_at_max = 30\n",
    "T_mujer_min =60; T_mujer_max = 300\n",
    "T_hombre_min = 40; T_hombre_max = 120\n",
    "C_mujer_min = 30; C_mujer_max = 100\n",
    "C_hombre_min = 20; C_hombre_max = 80"
   ]
  },
  {
   "cell_type": "markdown",
   "metadata": {},
   "source": [
    "Código de solución Andrea Flores Fernandez "
   ]
  },
  {
   "cell_type": "code",
   "execution_count": 8,
   "metadata": {},
   "outputs": [],
   "source": [
    "def cafeteria():\n",
    "    genero = np.random.randint(0,2)\n",
    "    T_at = np.random.randint(T_at_min,T_at_max)\n",
    "    T_mujer = np.random.randint(T_mujer_min,T_mujer_max)\n",
    "    T_hombre = np.random.randint(T_hombre_min,T_hombre_max)\n",
    "    C_mujer = np.random.randint(C_mujer_min,C_mujer_max)\n",
    "    C_hombre = np.random.randint(C_hombre_min,C_hombre_max)\n",
    "    if genero == 0:\n",
    "        return [T_at+T_hombre,C_hombre,genero]\n",
    "    else:\n",
    "        return [T_at+T_mujer,C_mujer,genero]"
   ]
  },
  {
   "cell_type": "code",
   "execution_count": 11,
   "metadata": {},
   "outputs": [],
   "source": [
    "gananciadiaria = np.zeros(d)\n",
    "consumodiario = np.zeros(d)    \n",
    "tiempopro = np.zeros(d)\n",
    "atendidos = np.zeros(d)\n",
    "consumopro = np.zeros(d)"
   ]
  },
  {
   "cell_type": "code",
   "execution_count": 12,
   "metadata": {},
   "outputs": [
    {
     "name": "stdout",
     "output_type": "stream",
     "text": [
      "Gasto promedio - hombres: 244.8232012900085 , mujeres: 330.9061790025545\n",
      "Consumo promedio por día: 9741.0\n",
      "Personas atendidas por día: [169. 177. 174. 164. 163.]\n",
      "Tiempo de atención promedio: 149.5670175040103\n",
      "Ganacia promedio:  5844.6 Rentabilidad:  0.6000000000000001\n"
     ]
    }
   ],
   "source": [
    "for i in range(d):  \n",
    "    tiempo = []\n",
    "    T_restante = T\n",
    "    consumo = [[],[]]\n",
    "    while True:\n",
    "        loc = cafeteria() \n",
    "        tiempo.append(loc[0]) \n",
    "        T_restante -= tiempo[-1]\n",
    "        atendidos[i] += 1 \n",
    "        if loc[-1] == 0: \n",
    "            consumo[0].append(loc[1])\n",
    "        else: \n",
    "            consumo[1].append(loc[1])\n",
    "        consumodiario[i] += loc[1]\n",
    "        gananciadiaria[i] = consumodiario[i]*.6\n",
    "        if (T_restante < 0):\n",
    "            break\n",
    "    consumopro[0] += np.array(consumo[0]).mean()\n",
    "    consumopro[1] += np.array(consumo[1]).mean()\n",
    "    tiempopro[i] = np.array(tiempo).mean()\n",
    "print(\"Gasto promedio - hombres:\",consumopro[0],\", mujeres:\",consumopro[1])\n",
    "print(\"Consumo promedio por día:\",consumodiario.mean())\n",
    "print(\"Personas atendidas por día:\",atendidos)\n",
    "print(\"Tiempo de atención promedio:\",tiempopro.mean())\n",
    "print(\"Ganacia promedio: \",gananciadiaria.mean(),\"Rentabilidad: \",gananciadiaria.mean() / consumodiario.mean())"
   ]
  },
  {
   "cell_type": "markdown",
   "metadata": {},
   "source": [
    "Código de solución Cristina Lobera De La Mora"
   ]
  },
  {
   "cell_type": "code",
   "execution_count": null,
   "metadata": {},
   "outputs": [],
   "source": []
  }
 ],
 "metadata": {
  "kernelspec": {
   "display_name": "Python 3",
   "language": "python",
   "name": "python3"
  },
  "language_info": {
   "codemirror_mode": {
    "name": "ipython",
    "version": 3
   },
   "file_extension": ".py",
   "mimetype": "text/x-python",
   "name": "python",
   "nbconvert_exporter": "python",
   "pygments_lexer": "ipython3",
   "version": "3.8.8"
  }
 },
 "nbformat": 4,
 "nbformat_minor": 2
}
